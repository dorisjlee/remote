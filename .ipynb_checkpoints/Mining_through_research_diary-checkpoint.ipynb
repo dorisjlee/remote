{
 "cells": [
  {
   "cell_type": "code",
   "execution_count": 1,
   "metadata": {
    "collapsed": false
   },
   "outputs": [
    {
     "name": "stdout",
     "output_type": "stream",
     "text": [
      "Populating the interactive namespace from numpy and matplotlib\n"
     ]
    }
   ],
   "source": [
    "%pylab inline\n",
    "import pandas as pd"
   ]
  },
  {
   "cell_type": "markdown",
   "metadata": {},
   "source": [
    "Goal: \n",
    "    - Compile a set of keywords so entity resolution won't be a problem\n",
    "    - Compile a list of note for each category"
   ]
  },
  {
   "cell_type": "code",
   "execution_count": 11,
   "metadata": {
    "collapsed": false
   },
   "outputs": [],
   "source": [
    "year = '2016'\n",
    "import glob\n",
    "mega_content  = []\n",
    "for filename in glob.glob(\"*.txt\"):\n",
    "#     print filename\n",
    "    f = open(filename)\n",
    "    for line in f.readlines():\n",
    "#         print line.split()\n",
    "        if (line[:4]==year):\n",
    "            line = line.split()\n",
    "            date = line[0]\n",
    "            time = line[1]\n",
    "            tags = line[2].split(\",\")\n",
    "            tag1 = tags[0]\n",
    "            tag2 = tags[1]\n",
    "            content =\"\"\n",
    "#         content = line\n",
    "        else:\n",
    "            content+=line\n",
    "    mega_content.append([date,time,tags,content])\n",
    "df = pd.DataFrame(mega_content, columns=['date', 'time', 'tag1','tag2','content'])"
   ]
  },
  {
   "cell_type": "code",
   "execution_count": 12,
   "metadata": {
    "collapsed": false
   },
   "outputs": [
    {
     "data": {
      "text/html": [
       "<div>\n",
       "<table border=\"1\" class=\"dataframe\">\n",
       "  <thead>\n",
       "    <tr style=\"text-align: right;\">\n",
       "      <th></th>\n",
       "      <th>date</th>\n",
       "      <th>time</th>\n",
       "      <th>tags</th>\n",
       "      <th>content</th>\n",
       "    </tr>\n",
       "  </thead>\n",
       "  <tbody>\n",
       "    <tr>\n",
       "      <th>0</th>\n",
       "      <td>2016-01-18</td>\n",
       "      <td>06:55:56</td>\n",
       "      <td>[projidea, crowd]</td>\n",
       "      <td>\\nIn Marcus and Parameswaran (2015) , they tal...</td>\n",
       "    </tr>\n",
       "    <tr>\n",
       "      <th>1</th>\n",
       "      <td>2016-01-22</td>\n",
       "      <td>09:23:19</td>\n",
       "      <td>[hpc, hardware]</td>\n",
       "      <td>cache line lengh= number of bytes that is load...</td>\n",
       "    </tr>\n",
       "    <tr>\n",
       "      <th>2</th>\n",
       "      <td>2016-01-24</td>\n",
       "      <td>11:01:28</td>\n",
       "      <td>[db]</td>\n",
       "      <td>disjoint : a set that has no element in common...</td>\n",
       "    </tr>\n",
       "    <tr>\n",
       "      <th>3</th>\n",
       "      <td>2016-01-26</td>\n",
       "      <td>19:21:11</td>\n",
       "      <td>[cs267, hpc]</td>\n",
       "      <td>SIMD is when you have one single thing to do b...</td>\n",
       "    </tr>\n",
       "    <tr>\n",
       "      <th>4</th>\n",
       "      <td>2016-02-07</td>\n",
       "      <td>20:21:55</td>\n",
       "      <td>[apad, data]</td>\n",
       "      <td>Going to start the APAD (A Paper a day) excerc...</td>\n",
       "    </tr>\n",
       "    <tr>\n",
       "      <th>5</th>\n",
       "      <td>2016-02-09</td>\n",
       "      <td>11:32:17</td>\n",
       "      <td>[crowdclass]</td>\n",
       "      <td>First tag for crowdclass, my new project.\\nPre...</td>\n",
       "    </tr>\n",
       "  </tbody>\n",
       "</table>\n",
       "</div>"
      ],
      "text/plain": [
       "         date      time               tags  \\\n",
       "0  2016-01-18  06:55:56  [projidea, crowd]   \n",
       "1  2016-01-22  09:23:19    [hpc, hardware]   \n",
       "2  2016-01-24  11:01:28               [db]   \n",
       "3  2016-01-26  19:21:11       [cs267, hpc]   \n",
       "4  2016-02-07  20:21:55       [apad, data]   \n",
       "5  2016-02-09  11:32:17       [crowdclass]   \n",
       "\n",
       "                                             content  \n",
       "0  \\nIn Marcus and Parameswaran (2015) , they tal...  \n",
       "1  cache line lengh= number of bytes that is load...  \n",
       "2  disjoint : a set that has no element in common...  \n",
       "3  SIMD is when you have one single thing to do b...  \n",
       "4  Going to start the APAD (A Paper a day) excerc...  \n",
       "5  First tag for crowdclass, my new project.\\nPre...  "
      ]
     },
     "execution_count": 12,
     "metadata": {},
     "output_type": "execute_result"
    }
   ],
   "source": [
    "df"
   ]
  },
  {
   "cell_type": "code",
   "execution_count": 14,
   "metadata": {
    "collapsed": false
   },
   "outputs": [
    {
     "data": {
      "text/plain": [
       "False"
      ]
     },
     "execution_count": 14,
     "metadata": {},
     "output_type": "execute_result"
    }
   ],
   "source": [
    "'hpc' in df['tags']"
   ]
  },
  {
   "cell_type": "code",
   "execution_count": null,
   "metadata": {
    "collapsed": true
   },
   "outputs": [],
   "source": []
  }
 ],
 "metadata": {
  "kernelspec": {
   "display_name": "Python 2",
   "language": "python",
   "name": "python2"
  },
  "language_info": {
   "codemirror_mode": {
    "name": "ipython",
    "version": 2
   },
   "file_extension": ".py",
   "mimetype": "text/x-python",
   "name": "python",
   "nbconvert_exporter": "python",
   "pygments_lexer": "ipython2",
   "version": "2.7.6"
  }
 },
 "nbformat": 4,
 "nbformat_minor": 0
}
