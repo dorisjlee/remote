{
 "cells": [
  {
   "cell_type": "code",
   "execution_count": 1,
   "metadata": {
    "collapsed": false
   },
   "outputs": [
    {
     "name": "stdout",
     "output_type": "stream",
     "text": [
      "Populating the interactive namespace from numpy and matplotlib\n"
     ]
    }
   ],
   "source": [
    "%pylab inline\n",
    "import pandas as pd"
   ]
  },
  {
   "cell_type": "markdown",
   "metadata": {},
   "source": [
    "Goal: \n",
    "    - Compile a set of keywords so entity resolution won't be a problem\n",
    "    - Compile a list of note for each category"
   ]
  },
  {
   "cell_type": "code",
   "execution_count": 3,
   "metadata": {
    "collapsed": false
   },
   "outputs": [],
   "source": [
    "year = '2016'\n",
    "import glob\n",
    "mega_content  = []\n",
    "for filename in glob.glob(\"{}_*.txt\".format(year)):\n",
    "#     print filename\n",
    "    f = open(filename)\n",
    "    for line in f.readlines():\n",
    "#         print line.split()\n",
    "        if (line[:4]==year):\n",
    "            line = line.split()\n",
    "            date = line[0]\n",
    "            time = line[1]\n",
    "            tags = line[2].split(\",\")\n",
    "            tag1 = tags[0]\n",
    "            try:\n",
    "                tag2 = tags[1]\n",
    "            except (IndexError):\n",
    "                tag2=\"\"\n",
    "            content =\"\"\n",
    "#         content = line\n",
    "        else:\n",
    "            content+=line\n",
    "    mega_content.append([date,time,tag1,tag2,content])"
   ]
  },
  {
   "cell_type": "code",
   "execution_count": 4,
   "metadata": {
    "collapsed": false
   },
   "outputs": [],
   "source": [
    "df = pd.DataFrame(mega_content, columns=['date', 'time', 'tag1','tag2','content'])"
   ]
  },
  {
   "cell_type": "code",
   "execution_count": 5,
   "metadata": {
    "collapsed": false
   },
   "outputs": [
    {
     "data": {
      "text/html": [
       "<div>\n",
       "<table border=\"1\" class=\"dataframe\">\n",
       "  <thead>\n",
       "    <tr style=\"text-align: right;\">\n",
       "      <th></th>\n",
       "      <th>date</th>\n",
       "      <th>time</th>\n",
       "      <th>tag1</th>\n",
       "      <th>tag2</th>\n",
       "      <th>content</th>\n",
       "    </tr>\n",
       "  </thead>\n",
       "  <tbody>\n",
       "    <tr>\n",
       "      <th>0</th>\n",
       "      <td>2016-01-18</td>\n",
       "      <td>06:55:56</td>\n",
       "      <td>projidea</td>\n",
       "      <td>crowd</td>\n",
       "      <td>\\nIn Marcus and Parameswaran (2015) , they tal...</td>\n",
       "    </tr>\n",
       "    <tr>\n",
       "      <th>1</th>\n",
       "      <td>2016-01-22</td>\n",
       "      <td>09:23:19</td>\n",
       "      <td>hpc</td>\n",
       "      <td>hardware</td>\n",
       "      <td>cache line lengh= number of bytes that is load...</td>\n",
       "    </tr>\n",
       "    <tr>\n",
       "      <th>2</th>\n",
       "      <td>2016-01-24</td>\n",
       "      <td>11:01:28</td>\n",
       "      <td>db</td>\n",
       "      <td></td>\n",
       "      <td>disjoint : a set that has no element in common...</td>\n",
       "    </tr>\n",
       "    <tr>\n",
       "      <th>3</th>\n",
       "      <td>2016-01-26</td>\n",
       "      <td>19:21:11</td>\n",
       "      <td>cs267</td>\n",
       "      <td>hpc</td>\n",
       "      <td>SIMD is when you have one single thing to do b...</td>\n",
       "    </tr>\n",
       "    <tr>\n",
       "      <th>4</th>\n",
       "      <td>2016-02-07</td>\n",
       "      <td>20:21:55</td>\n",
       "      <td>apad</td>\n",
       "      <td>data</td>\n",
       "      <td>Going to start the APAD (A Paper a day) excerc...</td>\n",
       "    </tr>\n",
       "    <tr>\n",
       "      <th>5</th>\n",
       "      <td>2016-02-09</td>\n",
       "      <td>11:32:17</td>\n",
       "      <td>crowdclass</td>\n",
       "      <td></td>\n",
       "      <td>First tag for crowdclass, my new project.\\nPre...</td>\n",
       "    </tr>\n",
       "    <tr>\n",
       "      <th>6</th>\n",
       "      <td>2016-02-10</td>\n",
       "      <td>18:24:51</td>\n",
       "      <td>crowdclass</td>\n",
       "      <td></td>\n",
       "      <td>From Cesar: \\n\\nCamillia Matuk        School o...</td>\n",
       "    </tr>\n",
       "    <tr>\n",
       "      <th>7</th>\n",
       "      <td>2016-02-11</td>\n",
       "      <td>08:57:29</td>\n",
       "      <td>hci</td>\n",
       "      <td></td>\n",
       "      <td>Designing Experiments (Ch3)\\n    - figure out ...</td>\n",
       "    </tr>\n",
       "    <tr>\n",
       "      <th>8</th>\n",
       "      <td>2016-02-12</td>\n",
       "      <td>20:09:58</td>\n",
       "      <td>crowdclass</td>\n",
       "      <td></td>\n",
       "      <td>- One interesting thing that came out of the d...</td>\n",
       "    </tr>\n",
       "    <tr>\n",
       "      <th>9</th>\n",
       "      <td>2016-02-13</td>\n",
       "      <td>12:31:06</td>\n",
       "      <td>crowdclass</td>\n",
       "      <td></td>\n",
       "      <td>WISE (Web -based inquiry science environment) ...</td>\n",
       "    </tr>\n",
       "    <tr>\n",
       "      <th>10</th>\n",
       "      <td>2016-02-14</td>\n",
       "      <td>12:47:33</td>\n",
       "      <td>ds</td>\n",
       "      <td></td>\n",
       "      <td>ds : data science\\nReading the book: \\nDoing D...</td>\n",
       "    </tr>\n",
       "    <tr>\n",
       "      <th>11</th>\n",
       "      <td>2016-02-15</td>\n",
       "      <td>18:33:19</td>\n",
       "      <td>hpc</td>\n",
       "      <td></td>\n",
       "      <td>- OpenMP also faster because all the threads a...</td>\n",
       "    </tr>\n",
       "    <tr>\n",
       "      <th>12</th>\n",
       "      <td>2016-02-16</td>\n",
       "      <td>19:06:03</td>\n",
       "      <td>crowdclass</td>\n",
       "      <td></td>\n",
       "      <td>List of Deadlines\\n-  HCOMP 2016  05/17/2016\\n...</td>\n",
       "    </tr>\n",
       "  </tbody>\n",
       "</table>\n",
       "</div>"
      ],
      "text/plain": [
       "          date      time        tag1      tag2  \\\n",
       "0   2016-01-18  06:55:56    projidea     crowd   \n",
       "1   2016-01-22  09:23:19         hpc  hardware   \n",
       "2   2016-01-24  11:01:28          db             \n",
       "3   2016-01-26  19:21:11       cs267       hpc   \n",
       "4   2016-02-07  20:21:55        apad      data   \n",
       "5   2016-02-09  11:32:17  crowdclass             \n",
       "6   2016-02-10  18:24:51  crowdclass             \n",
       "7   2016-02-11  08:57:29         hci             \n",
       "8   2016-02-12  20:09:58  crowdclass             \n",
       "9   2016-02-13  12:31:06  crowdclass             \n",
       "10  2016-02-14  12:47:33          ds             \n",
       "11  2016-02-15  18:33:19         hpc             \n",
       "12  2016-02-16  19:06:03  crowdclass             \n",
       "\n",
       "                                              content  \n",
       "0   \\nIn Marcus and Parameswaran (2015) , they tal...  \n",
       "1   cache line lengh= number of bytes that is load...  \n",
       "2   disjoint : a set that has no element in common...  \n",
       "3   SIMD is when you have one single thing to do b...  \n",
       "4   Going to start the APAD (A Paper a day) excerc...  \n",
       "5   First tag for crowdclass, my new project.\\nPre...  \n",
       "6   From Cesar: \\n\\nCamillia Matuk        School o...  \n",
       "7   Designing Experiments (Ch3)\\n    - figure out ...  \n",
       "8   - One interesting thing that came out of the d...  \n",
       "9   WISE (Web -based inquiry science environment) ...  \n",
       "10  ds : data science\\nReading the book: \\nDoing D...  \n",
       "11  - OpenMP also faster because all the threads a...  \n",
       "12  List of Deadlines\\n-  HCOMP 2016  05/17/2016\\n...  "
      ]
     },
     "execution_count": 5,
     "metadata": {},
     "output_type": "execute_result"
    }
   ],
   "source": [
    "df"
   ]
  },
  {
   "cell_type": "code",
   "execution_count": 6,
   "metadata": {
    "collapsed": true
   },
   "outputs": [],
   "source": [
    "rm hpc.txt"
   ]
  },
  {
   "cell_type": "code",
   "execution_count": 7,
   "metadata": {
    "collapsed": false
   },
   "outputs": [],
   "source": [
    "flag = 'diary'\n",
    "keyword=\"hpc\"\n",
    "f = open(\"{}.txt\".format(keyword),'a')\n",
    "for index, row in df.iterrows():\n",
    "    if flag == 'notes':\n",
    "        if row['tag1']==keyword or  row['tag2']==keyword:\n",
    "            f.write(row['content'])\n",
    "    elif flag == 'diary':\n",
    "        if row['tag1']==keyword or  row['tag2']==keyword:\n",
    "            f.write('\\n------------------------------------------\\n')\n",
    "            f.write(row['date'] +\"    \"+ row['time']+\"\\n\")\n",
    "            f.write(row['content'])\n",
    "    else: \n",
    "        print \"What do you want!! notes or diary logs? \"\n",
    "f.close()"
   ]
  },
  {
   "cell_type": "code",
   "execution_count": 8,
   "metadata": {
    "collapsed": false
   },
   "outputs": [
    {
     "name": "stdout",
     "output_type": "stream",
     "text": [
      "\r\n",
      "------------------------------------------\r\n",
      "2016-01-22    09:23:19\r\n",
      "cache line lengh= number of bytes that is loaded into the cache together in one go \r\n",
      "associativity= the number of address that can have the degernerate keys , like how many xxxxx1101 can you have in cache (directmapped versus n-way) \r\n",
      "- we have different level of caches because large caches can delay checking time and on-chip is faster but limited in size, the level of cache is tweaked for each system to optimize performance (e.g. sometimes it takes too long to load in cache because it spents all the time passing down to lower L2, L3 ..etc \r\n",
      "- Membench (memory benchmark)  : vary stride( how much gap between array items) , plot it against average cost per access \r\n",
      "    - stanza is how long a stride run is. so how long a consecutive array per run that you have to fetch\r\n",
      "- bandwidth versus latency (~)\r\n",
      "    - latency : how long it takes you to travel to sacramento\r\n",
      "    - bandwidth: how long it takes to travel to sacremento while fighting thouhgh the trffic \r\n",
      "------------------------------------------\r\n",
      "2016-01-26    19:21:11\r\n",
      "SIMD is when you have one single thing to do but you do them concurrently on many pieces of the data because the operation is naturally parallelizable. \r\n",
      "For example, a natural vectorizable thing would be like adding two matricies together , each element adds together and its parallel\r\n",
      "likewise when you do anything to images, like flat subtraction or something this is naturally vectorized , so SIMB, vectorize and GPUs \r\n",
      "\r\n",
      "\r\n",
      "------------------------------------------\r\n",
      "2016-02-15    18:33:19\r\n",
      "- OpenMP also faster because all the threads are created at the beginning of the program and then just redirected to different things later in the program so unlike POSIX it never has to talk to the OS .\r\n"
     ]
    }
   ],
   "source": [
    "cat hpc.txt"
   ]
  },
  {
   "cell_type": "code",
   "execution_count": 14,
   "metadata": {
    "collapsed": true
   },
   "outputs": [],
   "source": [
    "flag = 'diary'\n",
    "keyword=\"crowdclass\"\n",
    "f = open(\"{}.txt\".format(keyword),'w')\n",
    "for index, row in df.iterrows():\n",
    "    if flag == 'notes':\n",
    "        if row['tag1']==keyword or  row['tag2']==keyword:\n",
    "            f.write(row['content'])\n",
    "    elif flag == 'diary':\n",
    "        if row['tag1']==keyword or  row['tag2']==keyword:\n",
    "            f.write('\\n------------------------------------------\\n')\n",
    "            f.write(row['date'] +\"    \"+ row['time']+\"\\n\")\n",
    "            f.write(row['content'])\n",
    "    else: \n",
    "        print \"What do you want!! notes or diary logs? \"\n",
    "f.close()"
   ]
  },
  {
   "cell_type": "code",
   "execution_count": 15,
   "metadata": {
    "collapsed": false
   },
   "outputs": [
    {
     "name": "stdout",
     "output_type": "stream",
     "text": [
      "\r\n",
      "------------------------------------------\r\n",
      "2016-02-09    11:32:17\r\n",
      "First tag for crowdclass, my new project.\r\n",
      "Preparing for the wednesday talk during the group meeting.\r\n",
      "Got a response from Dr. Jenett and she wants to chat on Friday. Quite exciting to hear what the expert has to say abotu this.\r\n",
      "\r\n",
      "------------------------------------------\r\n",
      "2016-02-10    18:24:51\r\n",
      "From Cesar: \r\n",
      "\r\n",
      "Camillia Matuk        School of Education at Berkeley    Designing curriculum-integrated technologies that scaffold and assess science inquiry learning    How can technology help people manage the complexity of inquiry-based learning and instruction? Students building explanations must distinguish among various often conflicting ideas. Teachers planning instruction and guidance must monitor their diverse students’ understanding. Designers creating curriculum require finer-grained information on students’ learning than can be found in typical pre and post tests. This presentation describes tools integrated into the Web-based Inquiry Science Environment (WISE) to both scaffold and capture students’ developing understanding.    Camillia Matuk is a postdoc in the Technology Enhanced Learning in Science Center, directed by Marcia Linn at the University of California, Berkeley. She is also a part-time lecturer in the Graduate School of Education, where she teaches cognition and technology courses for graduate students (SESAME, EMST) and for preservice teachers in mathematics and science (MACSME), and in multicultural urban secondary English (MUSE). As a postdoc, Camillia helps manage two multi-year NSF-funded projects (VISUAL and CLASS) focused on developing and researching technology-enhanced curricula and tools for middle and high school science inquiry. She also co-leads annual professional development activities around integrating technology into inquiry-based science instruction, and with the goal of building a collaborative design community among teachers, researchers, and developers.\r\n",
      "That was the talk a while back. I’m sure she has published work on it now.\r\n",
      "The papers here might also be useful: http://dl.acm.org/results.cfm?within=owners.owner%3DHOSTED&srt=_score&query=mooc+question+generation+from+wikipedia&Go.x=0&Go.y=0\r\n",
      "------------------------------------------\r\n",
      "2016-02-12    20:09:58\r\n",
      "- One interesting thing that came out of the dabbler's paper was that Dr. Jennett talked about how they are optimizing the system for people who just don't have a lot of time, but want to contribute a bit. If there is the reward system for learning, then maybe they would have more time for learning, or they are actually learning so its not wasting their time ? \r\n",
      "\r\n",
      "------------------------------------------\r\n",
      "2016-02-13    12:31:06\r\n",
      "WISE (Web -based inquiry science environment) \r\n",
      "    - Inquiry-based learning : scaffolding\r\n",
      "        - UI supports notes, questions, inquiry map ..etc \r\n",
      "    - backed by lots of educational work on cirriculum development ---> more focussed on content \r\n",
      "    - WISE curriculum units improve student learning of difficult standards-based science topics (Linn et al., 2006)\r\n",
      "    - Cons: designed for middle schoolers, not adult self-lerners --> citizen science\r\n",
      "\r\n",
      "------------------------------------------\r\n",
      "2016-02-16    19:06:03\r\n",
      "List of Deadlines\r\n",
      "-  HCOMP 2016  05/17/2016\r\n",
      "-  CSCW 2017  05/22/2016"
     ]
    }
   ],
   "source": [
    "cat crowdclass.txt"
   ]
  },
  {
   "cell_type": "code",
   "execution_count": null,
   "metadata": {
    "collapsed": true
   },
   "outputs": [],
   "source": [
    "option \n",
    "option =  sys.argv[1]\n",
    "\n",
    "organize <keyword> <flag>"
   ]
  }
 ],
 "metadata": {
  "kernelspec": {
   "display_name": "Python 2",
   "language": "python",
   "name": "python2"
  },
  "language_info": {
   "codemirror_mode": {
    "name": "ipython",
    "version": 2
   },
   "file_extension": ".py",
   "mimetype": "text/x-python",
   "name": "python",
   "nbconvert_exporter": "python",
   "pygments_lexer": "ipython2",
   "version": "2.7.6"
  }
 },
 "nbformat": 4,
 "nbformat_minor": 0
}
